{
 "cells": [
  {
   "cell_type": "code",
   "execution_count": 1,
   "metadata": {},
   "outputs": [],
   "source": [
    "%matplotlib inline\n",
    "import pandas as pd\n",
    "import numpy as np\n",
    "import re\n",
    "import matplotlib.pyplot as plt\n",
    "import csv\n",
    "import gc"
   ]
  },
  {
   "cell_type": "markdown",
   "metadata": {},
   "source": [
    "# Genre Dataset"
   ]
  },
  {
   "cell_type": "markdown",
   "metadata": {},
   "source": [
    "## Import files"
   ]
  },
  {
   "cell_type": "code",
   "execution_count": 2,
   "metadata": {},
   "outputs": [
    {
     "name": "stderr",
     "output_type": "stream",
     "text": [
      "C:\\Users\\gonxh\\Anaconda3\\lib\\site-packages\\IPython\\core\\interactiveshell.py:3020: DtypeWarning: Columns (12) have mixed types. Specify dtype option on import or set low_memory=False.\n",
      "  interactivity=interactivity, compiler=compiler, result=result)\n"
     ]
    }
   ],
   "source": [
    "awards = pd.read_csv('./awards.csv')#, sep = ',', header = 0, names = ['eventId', 'eventName', 'awardName', 'year','occurence', 'winAnnouncementTime', 'categoryName', 'nomeneeNote', 'name'])\n",
    "awards = awards.dropna(subset = ['eventName', 'awardName','isPrimary', 'isWinner', 'isTitle','isCompany', 'const'])"
   ]
  },
  {
   "cell_type": "code",
   "execution_count": 3,
   "metadata": {},
   "outputs": [
    {
     "name": "stderr",
     "output_type": "stream",
     "text": [
      "C:\\Users\\gonxh\\Anaconda3\\lib\\site-packages\\IPython\\core\\interactiveshell.py:3020: DtypeWarning: Columns (5) have mixed types. Specify dtype option on import or set low_memory=False.\n",
      "  interactivity=interactivity, compiler=compiler, result=result)\n"
     ]
    }
   ],
   "source": [
    "movies = pd.read_csv(\"data.tsv\", sep='\\t')\n",
    "movies = movies.dropna(subset = ['tconst', 'originalTitle','startYear', 'genres'])"
   ]
  },
  {
   "cell_type": "markdown",
   "metadata": {},
   "source": [
    "### Merge datasets to create a genre/awards dataset"
   ]
  },
  {
   "cell_type": "code",
   "execution_count": 4,
   "metadata": {},
   "outputs": [],
   "source": [
    "movies['genres'] = movies['genres'].apply(lambda x : x.split(','))\n"
   ]
  },
  {
   "cell_type": "code",
   "execution_count": 5,
   "metadata": {},
   "outputs": [],
   "source": [
    "movies_merge = pd.merge(movies, awards, left_on='tconst', right_on='const',how='outer', indicator=False)"
   ]
  },
  {
   "cell_type": "code",
   "execution_count": 6,
   "metadata": {},
   "outputs": [],
   "source": [
    "movies_merge = movies_merge.drop(columns = [\n",
    " 'titleType',\n",
    " 'primaryTitle',\n",
    " 'isAdult',\n",
    " 'endYear',\n",
    " 'runtimeMinutes',\n",
    " 'occurrence',\n",
    " 'winAnnouncementTime',\n",
    " 'categoryName',\n",
    " 'nomeneeNote',\n",
    " 'name',\n",
    " 'originalName',\n",
    " 'songNames',\n",
    " 'episodeNames',\n",
    " 'characterNames',\n",
    " 'isWinner',\n",
    " 'isPrimary',\n",
    " 'isSecondary',\n",
    " 'isPerson',\n",
    " 'isTitle',\n",
    " 'isCompany',\n",
    " 'const',\n",
    " 'notes'\n",
    "])"
   ]
  },
  {
   "cell_type": "code",
   "execution_count": 7,
   "metadata": {},
   "outputs": [],
   "source": [
    "awards_keys = list(awards.columns.values)"
   ]
  },
  {
   "cell_type": "code",
   "execution_count": 8,
   "metadata": {
    "scrolled": true
   },
   "outputs": [],
   "source": [
    "awards = awards.drop(columns = ['occurrence',\n",
    " 'winAnnouncementTime',\n",
    " 'categoryName',\n",
    " 'nomeneeNote',\n",
    " 'originalName',\n",
    " 'songNames',\n",
    " 'episodeNames',\n",
    " 'characterNames',\n",
    " 'isWinner',\n",
    " 'isPrimary',\n",
    " 'isSecondary',\n",
    " 'isPerson',\n",
    " 'isTitle',\n",
    " 'isCompany',\n",
    " 'notes'])"
   ]
  },
  {
   "cell_type": "code",
   "execution_count": 9,
   "metadata": {
    "scrolled": true
   },
   "outputs": [],
   "source": [
    "awards.rename(columns={'const':'id_movie'}, inplace=True)"
   ]
  },
  {
   "cell_type": "code",
   "execution_count": 10,
   "metadata": {},
   "outputs": [],
   "source": [
    "movies_merge.rename(columns={'tconst':'id_movie'}, inplace=True)\n",
    "movies_merge['year'] = movies_merge['year'].fillna(0.0).astype(int)\n",
    "movies_merge = movies_merge.dropna(subset = ['id_movie', 'genres'])"
   ]
  },
  {
   "cell_type": "markdown",
   "metadata": {},
   "source": [
    "Here we now have only the movies which are also in awards"
   ]
  },
  {
   "cell_type": "code",
   "execution_count": 11,
   "metadata": {
    "scrolled": true
   },
   "outputs": [],
   "source": [
    "splitting = movies_merge[['id_movie','genres']]"
   ]
  },
  {
   "cell_type": "code",
   "execution_count": 12,
   "metadata": {
    "scrolled": true
   },
   "outputs": [],
   "source": [
    "splitting=pd.DataFrame({'id_movie':splitting.id_movie.repeat(splitting.genres.str.len()),'genres':np.concatenate(splitting.genres.values)})"
   ]
  },
  {
   "cell_type": "code",
   "execution_count": 13,
   "metadata": {},
   "outputs": [],
   "source": [
    "new = pd.merge(movies_merge, splitting, left_on='id_movie', right_on='id_movie',how='outer', indicator=False)\n"
   ]
  },
  {
   "cell_type": "code",
   "execution_count": 14,
   "metadata": {},
   "outputs": [
    {
     "data": {
      "text/plain": [
       "103578622"
      ]
     },
     "execution_count": 14,
     "metadata": {},
     "output_type": "execute_result"
    }
   ],
   "source": [
    "len(new)"
   ]
  },
  {
   "cell_type": "markdown",
   "metadata": {},
   "source": [
    "Export in new file:"
   ]
  },
  {
   "cell_type": "code",
   "execution_count": 15,
   "metadata": {},
   "outputs": [],
   "source": [
    "new.to_csv('merged_data.csv')"
   ]
  }
 ],
 "metadata": {
  "kernelspec": {
   "display_name": "Python 3",
   "language": "python",
   "name": "python3"
  },
  "language_info": {
   "codemirror_mode": {
    "name": "ipython",
    "version": 3
   },
   "file_extension": ".py",
   "mimetype": "text/x-python",
   "name": "python",
   "nbconvert_exporter": "python",
   "pygments_lexer": "ipython3",
   "version": "3.7.1"
  }
 },
 "nbformat": 4,
 "nbformat_minor": 2
}
