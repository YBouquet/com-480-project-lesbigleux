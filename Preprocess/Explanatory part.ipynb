{
 "cells": [
  {
   "cell_type": "code",
   "execution_count": 1,
   "metadata": {},
   "outputs": [],
   "source": [
    "%matplotlib inline\n",
    "import pandas as pd\n",
    "import numpy as np\n",
    "import re\n",
    "from matplotlib.ticker import MaxNLocator\n",
    "import matplotlib.pyplot as plt\n",
    "import datetime\n"
   ]
  },
  {
   "cell_type": "code",
   "execution_count": 2,
   "metadata": {},
   "outputs": [],
   "source": [
    "def country_clean(name):\n",
    "    if name == 'UK':\n",
    "        return 'United Kingdom'\n",
    "    if name == 'Soviet Union':\n",
    "        return 'Russia'\n",
    "    if name == 'West Germany':\n",
    "        return 'Germany'\n",
    "    if name == 'USA':\n",
    "        return 'United States of America'\n",
    "    return name\n"
   ]
  },
  {
   "cell_type": "code",
   "execution_count": 3,
   "metadata": {},
   "outputs": [],
   "source": [
    "movies = pd.read_csv('../data/IMDb_movies.csv').dropna(subset = ['title', 'original_title', 'country'])"
   ]
  },
  {
   "cell_type": "code",
   "execution_count": 4,
   "metadata": {},
   "outputs": [],
   "source": [
    "movies['genre'] = movies['genre'].apply(lambda x : x.split(', '))\n",
    "movies.explode('genre')\n",
    "movies['country'] = movies['country'].apply(lambda x : x.split(', '))\n",
    "movies = movies.explode('country')\n",
    "movies['country'] = movies.country.apply(lambda x : country_clean(x))\n",
    "stacked_movies = movies.explode('genre')"
   ]
  },
  {
   "cell_type": "code",
   "execution_count": 5,
   "metadata": {},
   "outputs": [
    {
     "data": {
      "text/plain": [
       "array(['Documentary', 'Crime', 'Drama', 'History', 'Adventure', 'Fantasy',\n",
       "       'Romance', 'War', 'Thriller', 'Western', 'Comedy', 'Family',\n",
       "       'Action', 'Sci-Fi', 'Sport', 'Animation', 'Music', 'Adult',\n",
       "       'Reality-TV', 'News'], dtype=object)"
      ]
     },
     "execution_count": 5,
     "metadata": {},
     "output_type": "execute_result"
    }
   ],
   "source": [
    "stacked_movies = stacked_movies[['imdb_title_id','year','genre','country']]\n",
    "stacked_movies.drop_duplicates(inplace=True)\n",
    "stacked_movies = stacked_movies.replace({'Biography': 'Documentary', 'Film-Noir':'Crime', 'Mystery':'Crime', 'Horror':'Thriller', 'Musical':'Music', 'Game-Show':'Reality-TV'})\n",
    "stacked_movies.genre.unique()"
   ]
  },
  {
   "cell_type": "code",
   "execution_count": null,
   "metadata": {},
   "outputs": [],
   "source": [
    "stacked_movies.to_csv('stacked_movies.csv')"
   ]
  },
  {
   "cell_type": "code",
   "execution_count": 6,
   "metadata": {},
   "outputs": [
    {
     "name": "stderr",
     "output_type": "stream",
     "text": [
      "C:\\Users\\emmal\\Anaconda3\\lib\\site-packages\\IPython\\core\\interactiveshell.py:3020: DtypeWarning: Columns (12) have mixed types. Specify dtype option on import or set low_memory=False.\n",
      "  interactivity=interactivity, compiler=compiler, result=result)\n"
     ]
    }
   ],
   "source": [
    "awards = pd.read_csv('../data/awards.csv')\n",
    "stacked_award = awards[awards['isTitle']]\n",
    "merge = pd.merge(stacked_movies, stacked_award, how='left', left_on='imdb_title_id', right_on='const')\n",
    "stacked_movies_awards = merge[['imdb_title_id','year_x','genre','country','isWinner','isPrimary','isSecondary']]"
   ]
  },
  {
   "cell_type": "code",
   "execution_count": 7,
   "metadata": {},
   "outputs": [
    {
     "name": "stdout",
     "output_type": "stream",
     "text": [
      "169153\n"
     ]
    },
    {
     "data": {
      "text/plain": [
       "118780"
      ]
     },
     "execution_count": 7,
     "metadata": {},
     "output_type": "execute_result"
    }
   ],
   "source": [
    "stacked_movies_awards.head()\n",
    "stacked_movies_awards = stacked_movies_awards.drop_duplicates()\n",
    "stacked_movies_awards = stacked_movies_awards.fillna(False)\n",
    "print(stacked_movies_awards['isPrimary'].sum())\n",
    "stacked_movies_awards['isWinner'].sum()"
   ]
  },
  {
   "cell_type": "code",
   "execution_count": null,
   "metadata": {},
   "outputs": [],
   "source": [
    "stacked_movies_awards.to_csv('stacked_movies_awards.csv', index=False)"
   ]
  },
  {
   "cell_type": "code",
   "execution_count": 8,
   "metadata": {},
   "outputs": [
    {
     "name": "stdout",
     "output_type": "stream",
     "text": [
      "356014\n",
      "81234\n"
     ]
    },
    {
     "data": {
      "text/html": [
       "<div>\n",
       "<style scoped>\n",
       "    .dataframe tbody tr th:only-of-type {\n",
       "        vertical-align: middle;\n",
       "    }\n",
       "\n",
       "    .dataframe tbody tr th {\n",
       "        vertical-align: top;\n",
       "    }\n",
       "\n",
       "    .dataframe thead th {\n",
       "        text-align: right;\n",
       "    }\n",
       "</style>\n",
       "<table border=\"1\" class=\"dataframe\">\n",
       "  <thead>\n",
       "    <tr style=\"text-align: right;\">\n",
       "      <th></th>\n",
       "      <th>imdb_title_id</th>\n",
       "      <th>year_x</th>\n",
       "      <th>genre</th>\n",
       "      <th>country</th>\n",
       "      <th>isWinner</th>\n",
       "      <th>isPrimary</th>\n",
       "      <th>isSecondary</th>\n",
       "    </tr>\n",
       "  </thead>\n",
       "  <tbody>\n",
       "    <tr>\n",
       "      <td>0</td>\n",
       "      <td>tt0000574</td>\n",
       "      <td>1906</td>\n",
       "      <td>Documentary</td>\n",
       "      <td>Australia</td>\n",
       "      <td>False</td>\n",
       "      <td>False</td>\n",
       "      <td>False</td>\n",
       "    </tr>\n",
       "    <tr>\n",
       "      <td>3</td>\n",
       "      <td>tt0001892</td>\n",
       "      <td>1911</td>\n",
       "      <td>Drama</td>\n",
       "      <td>Germany</td>\n",
       "      <td>False</td>\n",
       "      <td>False</td>\n",
       "      <td>False</td>\n",
       "    </tr>\n",
       "    <tr>\n",
       "      <td>5</td>\n",
       "      <td>tt0002101</td>\n",
       "      <td>1912</td>\n",
       "      <td>Drama</td>\n",
       "      <td>United States of America</td>\n",
       "      <td>False</td>\n",
       "      <td>False</td>\n",
       "      <td>False</td>\n",
       "    </tr>\n",
       "    <tr>\n",
       "      <td>7</td>\n",
       "      <td>tt0002130</td>\n",
       "      <td>1911</td>\n",
       "      <td>Adventure</td>\n",
       "      <td>Italy</td>\n",
       "      <td>False</td>\n",
       "      <td>False</td>\n",
       "      <td>False</td>\n",
       "    </tr>\n",
       "    <tr>\n",
       "      <td>10</td>\n",
       "      <td>tt0002199</td>\n",
       "      <td>1912</td>\n",
       "      <td>Documentary</td>\n",
       "      <td>United States of America</td>\n",
       "      <td>True</td>\n",
       "      <td>True</td>\n",
       "      <td>False</td>\n",
       "    </tr>\n",
       "  </tbody>\n",
       "</table>\n",
       "</div>"
      ],
      "text/plain": [
       "   imdb_title_id  year_x        genre                   country  isWinner  \\\n",
       "0      tt0000574    1906  Documentary                 Australia     False   \n",
       "3      tt0001892    1911        Drama                   Germany     False   \n",
       "5      tt0002101    1912        Drama  United States of America     False   \n",
       "7      tt0002130    1911    Adventure                     Italy     False   \n",
       "10     tt0002199    1912  Documentary  United States of America      True   \n",
       "\n",
       "    isPrimary  isSecondary  \n",
       "0       False        False  \n",
       "3       False        False  \n",
       "5       False        False  \n",
       "7       False        False  \n",
       "10       True        False  "
      ]
     },
     "execution_count": 8,
     "metadata": {},
     "output_type": "execute_result"
    }
   ],
   "source": [
    "print(len(stacked_movies_awards))\n",
    "stacked_movies_awards.drop_duplicates(subset='imdb_title_id',inplace=True)\n",
    "print(len(stacked_movies_awards))\n",
    "stacked_movies_awards.head()"
   ]
  },
  {
   "cell_type": "code",
   "execution_count": null,
   "metadata": {},
   "outputs": [],
   "source": [
    "stacked_movies_awards.to_csv('stacked_movies_awards.csv',index=False)"
   ]
  }
 ],
 "metadata": {
  "kernelspec": {
   "display_name": "Python 3",
   "language": "python",
   "name": "python3"
  },
  "language_info": {
   "codemirror_mode": {
    "name": "ipython",
    "version": 3
   },
   "file_extension": ".py",
   "mimetype": "text/x-python",
   "name": "python",
   "nbconvert_exporter": "python",
   "pygments_lexer": "ipython3",
   "version": "3.7.1"
  }
 },
 "nbformat": 4,
 "nbformat_minor": 2
}
