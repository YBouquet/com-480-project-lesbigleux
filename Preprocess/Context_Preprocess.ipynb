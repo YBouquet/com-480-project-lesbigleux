{
 "cells": [
  {
   "cell_type": "code",
   "execution_count": 1,
   "metadata": {},
   "outputs": [],
   "source": [
    "%matplotlib inline\n",
    "import pandas as pd\n",
    "import numpy as np\n",
    "import re\n",
    "from matplotlib.ticker import MaxNLocator\n",
    "import matplotlib.pyplot as plt\n",
    "import datetime\n"
   ]
  },
  {
   "cell_type": "markdown",
   "metadata": {},
   "source": [
    "# Awards Dataset"
   ]
  },
  {
   "cell_type": "markdown",
   "metadata": {},
   "source": [
    "Cleaning awards.csv"
   ]
  },
  {
   "cell_type": "code",
   "execution_count": 2,
   "metadata": {},
   "outputs": [
    {
     "name": "stderr",
     "output_type": "stream",
     "text": [
      "C:\\Users\\ybouq\\Anaconda3\\lib\\site-packages\\IPython\\core\\interactiveshell.py:3051: DtypeWarning: Columns (12) have mixed types.Specify dtype option on import or set low_memory=False.\n",
      "  interactivity=interactivity, compiler=compiler, result=result)\n"
     ]
    }
   ],
   "source": [
    "awards = pd.read_csv('./data/awards.csv')#, sep = ',', header = 0, names = ['eventId', 'eventName', 'awardName', 'year','occurence', 'winAnnouncementTime', 'categoryName', 'nomeneeNote', 'name'])\n",
    "awards = awards.dropna(subset = ['eventName', 'awardName', 'isPrimary', 'isWinner', 'isPerson', 'isTitle','isCompany'])\n",
    "\n",
    "#fill the category name with the award name if the category name is NA\n",
    "awards['categoryName'].fillna(awards['awardName'], inplace = True)\n",
    "awards = awards[awards.isPrimary & ~(awards.isCompany)]\n",
    "\n",
    "#select the events of interest for the network \n",
    "prestige_events = ['BAFTA Awards','Academy Awards','Cannes Film Festival', 'Sundance Film Festival', 'Venice Film Festival', 'Berlin International Film Festival', 'Locarno International Film Festival', 'Satellite Awards']\n",
    "\n",
    "#remove some information given witht the name of the event\n",
    "awards['eventName'] = awards.eventName.apply(lambda x : x.split(',')[0])\n",
    "awards['categoryName'] = awards.categoryName.apply(lambda x : x.split(',')[0])\n",
    "#as a result some event names are duplicated, so we attribute the same ID to these duplicated names\n",
    "awards = awards.replace({'eventId': 'ev0000125'}, 'ev0000123').replace({'eventId': 'ev0000124'}, 'ev0000123').replace({'eventId': 'ev0001588'}, 'ev0000291')"
   ]
  },
  {
   "cell_type": "markdown",
   "metadata": {},
   "source": [
    "# IMDB Movies"
   ]
  },
  {
   "cell_type": "code",
   "execution_count": 3,
   "metadata": {},
   "outputs": [
    {
     "data": {
      "text/html": [
       "<div>\n",
       "<style scoped>\n",
       "    .dataframe tbody tr th:only-of-type {\n",
       "        vertical-align: middle;\n",
       "    }\n",
       "\n",
       "    .dataframe tbody tr th {\n",
       "        vertical-align: top;\n",
       "    }\n",
       "\n",
       "    .dataframe thead th {\n",
       "        text-align: right;\n",
       "    }\n",
       "</style>\n",
       "<table border=\"1\" class=\"dataframe\">\n",
       "  <thead>\n",
       "    <tr style=\"text-align: right;\">\n",
       "      <th></th>\n",
       "      <th>imdb_title_id</th>\n",
       "      <th>title</th>\n",
       "      <th>original_title</th>\n",
       "      <th>year</th>\n",
       "      <th>date_published</th>\n",
       "      <th>genre</th>\n",
       "      <th>duration</th>\n",
       "      <th>country</th>\n",
       "      <th>language</th>\n",
       "      <th>director</th>\n",
       "      <th>...</th>\n",
       "      <th>actors</th>\n",
       "      <th>description</th>\n",
       "      <th>avg_vote</th>\n",
       "      <th>votes</th>\n",
       "      <th>budget</th>\n",
       "      <th>usa_gross_income</th>\n",
       "      <th>worlwide_gross_income</th>\n",
       "      <th>metascore</th>\n",
       "      <th>reviews_from_users</th>\n",
       "      <th>reviews_from_critics</th>\n",
       "    </tr>\n",
       "  </thead>\n",
       "  <tbody>\n",
       "    <tr>\n",
       "      <th>0</th>\n",
       "      <td>tt0000574</td>\n",
       "      <td>The Story of the Kelly Gang</td>\n",
       "      <td>The Story of the Kelly Gang</td>\n",
       "      <td>1906</td>\n",
       "      <td>1906-12-26</td>\n",
       "      <td>Biography</td>\n",
       "      <td>70</td>\n",
       "      <td>Australia</td>\n",
       "      <td>NaN</td>\n",
       "      <td>Charles Tait</td>\n",
       "      <td>...</td>\n",
       "      <td>Elizabeth Tait, John Tait, Norman Campbell, Be...</td>\n",
       "      <td>True story of notorious Australian outlaw Ned ...</td>\n",
       "      <td>6.1</td>\n",
       "      <td>537</td>\n",
       "      <td>$ 2250</td>\n",
       "      <td>NaN</td>\n",
       "      <td>NaN</td>\n",
       "      <td>NaN</td>\n",
       "      <td>7.0</td>\n",
       "      <td>7.0</td>\n",
       "    </tr>\n",
       "    <tr>\n",
       "      <th>0</th>\n",
       "      <td>tt0000574</td>\n",
       "      <td>The Story of the Kelly Gang</td>\n",
       "      <td>The Story of the Kelly Gang</td>\n",
       "      <td>1906</td>\n",
       "      <td>1906-12-26</td>\n",
       "      <td>Crime</td>\n",
       "      <td>70</td>\n",
       "      <td>Australia</td>\n",
       "      <td>NaN</td>\n",
       "      <td>Charles Tait</td>\n",
       "      <td>...</td>\n",
       "      <td>Elizabeth Tait, John Tait, Norman Campbell, Be...</td>\n",
       "      <td>True story of notorious Australian outlaw Ned ...</td>\n",
       "      <td>6.1</td>\n",
       "      <td>537</td>\n",
       "      <td>$ 2250</td>\n",
       "      <td>NaN</td>\n",
       "      <td>NaN</td>\n",
       "      <td>NaN</td>\n",
       "      <td>7.0</td>\n",
       "      <td>7.0</td>\n",
       "    </tr>\n",
       "    <tr>\n",
       "      <th>0</th>\n",
       "      <td>tt0000574</td>\n",
       "      <td>The Story of the Kelly Gang</td>\n",
       "      <td>The Story of the Kelly Gang</td>\n",
       "      <td>1906</td>\n",
       "      <td>1906-12-26</td>\n",
       "      <td>Drama</td>\n",
       "      <td>70</td>\n",
       "      <td>Australia</td>\n",
       "      <td>NaN</td>\n",
       "      <td>Charles Tait</td>\n",
       "      <td>...</td>\n",
       "      <td>Elizabeth Tait, John Tait, Norman Campbell, Be...</td>\n",
       "      <td>True story of notorious Australian outlaw Ned ...</td>\n",
       "      <td>6.1</td>\n",
       "      <td>537</td>\n",
       "      <td>$ 2250</td>\n",
       "      <td>NaN</td>\n",
       "      <td>NaN</td>\n",
       "      <td>NaN</td>\n",
       "      <td>7.0</td>\n",
       "      <td>7.0</td>\n",
       "    </tr>\n",
       "    <tr>\n",
       "      <th>1</th>\n",
       "      <td>tt0001892</td>\n",
       "      <td>Den sorte drøm</td>\n",
       "      <td>Den sorte drøm</td>\n",
       "      <td>1911</td>\n",
       "      <td>1911-08-19</td>\n",
       "      <td>Drama</td>\n",
       "      <td>53</td>\n",
       "      <td>Germany, Denmark</td>\n",
       "      <td>NaN</td>\n",
       "      <td>Urban Gad</td>\n",
       "      <td>...</td>\n",
       "      <td>Asta Nielsen, Valdemar Psilander, Gunnar Helse...</td>\n",
       "      <td>Two men of high rank are both wooing the beaut...</td>\n",
       "      <td>5.9</td>\n",
       "      <td>171</td>\n",
       "      <td>NaN</td>\n",
       "      <td>NaN</td>\n",
       "      <td>NaN</td>\n",
       "      <td>NaN</td>\n",
       "      <td>4.0</td>\n",
       "      <td>2.0</td>\n",
       "    </tr>\n",
       "    <tr>\n",
       "      <th>2</th>\n",
       "      <td>tt0002101</td>\n",
       "      <td>Cleopatra</td>\n",
       "      <td>Cleopatra</td>\n",
       "      <td>1912</td>\n",
       "      <td>1912-11-13</td>\n",
       "      <td>Drama</td>\n",
       "      <td>100</td>\n",
       "      <td>USA</td>\n",
       "      <td>English</td>\n",
       "      <td>Charles L. Gaskill</td>\n",
       "      <td>...</td>\n",
       "      <td>Helen Gardner, Pearl Sindelar, Miss Fielding, ...</td>\n",
       "      <td>The fabled queen of Egypt's affair with Roman ...</td>\n",
       "      <td>5.2</td>\n",
       "      <td>420</td>\n",
       "      <td>$ 45000</td>\n",
       "      <td>NaN</td>\n",
       "      <td>NaN</td>\n",
       "      <td>NaN</td>\n",
       "      <td>24.0</td>\n",
       "      <td>3.0</td>\n",
       "    </tr>\n",
       "    <tr>\n",
       "      <th>...</th>\n",
       "      <td>...</td>\n",
       "      <td>...</td>\n",
       "      <td>...</td>\n",
       "      <td>...</td>\n",
       "      <td>...</td>\n",
       "      <td>...</td>\n",
       "      <td>...</td>\n",
       "      <td>...</td>\n",
       "      <td>...</td>\n",
       "      <td>...</td>\n",
       "      <td>...</td>\n",
       "      <td>...</td>\n",
       "      <td>...</td>\n",
       "      <td>...</td>\n",
       "      <td>...</td>\n",
       "      <td>...</td>\n",
       "      <td>...</td>\n",
       "      <td>...</td>\n",
       "      <td>...</td>\n",
       "      <td>...</td>\n",
       "      <td>...</td>\n",
       "    </tr>\n",
       "    <tr>\n",
       "      <th>81269</th>\n",
       "      <td>tt9905412</td>\n",
       "      <td>Ottam</td>\n",
       "      <td>Ottam</td>\n",
       "      <td>2019</td>\n",
       "      <td>2019-03-08</td>\n",
       "      <td>Drama</td>\n",
       "      <td>120</td>\n",
       "      <td>India</td>\n",
       "      <td>Malayalam</td>\n",
       "      <td>Zam</td>\n",
       "      <td>...</td>\n",
       "      <td>Nandu Anand, Roshan Ullas, Manikandan R. Achar...</td>\n",
       "      <td>Set in Trivandrum, the story of Ottam unfolds ...</td>\n",
       "      <td>7.8</td>\n",
       "      <td>510</td>\n",
       "      <td>INR 4000000</td>\n",
       "      <td>NaN</td>\n",
       "      <td>$ 4791</td>\n",
       "      <td>NaN</td>\n",
       "      <td>NaN</td>\n",
       "      <td>NaN</td>\n",
       "    </tr>\n",
       "    <tr>\n",
       "      <th>81270</th>\n",
       "      <td>tt9905462</td>\n",
       "      <td>Pengalila</td>\n",
       "      <td>Pengalila</td>\n",
       "      <td>2019</td>\n",
       "      <td>2019-03-08</td>\n",
       "      <td>Drama</td>\n",
       "      <td>111</td>\n",
       "      <td>India</td>\n",
       "      <td>Malayalam</td>\n",
       "      <td>T.V. Chandran</td>\n",
       "      <td>...</td>\n",
       "      <td>Lal, Akshara Kishor, Iniya, Narain, Renji Pani...</td>\n",
       "      <td>An unusual bond between a sixty year old Dalit...</td>\n",
       "      <td>8.4</td>\n",
       "      <td>604</td>\n",
       "      <td>INR 10000000</td>\n",
       "      <td>NaN</td>\n",
       "      <td>NaN</td>\n",
       "      <td>NaN</td>\n",
       "      <td>NaN</td>\n",
       "      <td>NaN</td>\n",
       "    </tr>\n",
       "    <tr>\n",
       "      <th>81271</th>\n",
       "      <td>tt9911774</td>\n",
       "      <td>Padmavyuhathile Abhimanyu</td>\n",
       "      <td>Padmavyuhathile Abhimanyu</td>\n",
       "      <td>2019</td>\n",
       "      <td>2019-03-08</td>\n",
       "      <td>Drama</td>\n",
       "      <td>130</td>\n",
       "      <td>India</td>\n",
       "      <td>Malayalam</td>\n",
       "      <td>Vineesh Aaradya</td>\n",
       "      <td>...</td>\n",
       "      <td>Anoop Chandran, Indrans, Sona Nair, Simon Brit...</td>\n",
       "      <td>NaN</td>\n",
       "      <td>8.4</td>\n",
       "      <td>369</td>\n",
       "      <td>NaN</td>\n",
       "      <td>NaN</td>\n",
       "      <td>NaN</td>\n",
       "      <td>NaN</td>\n",
       "      <td>NaN</td>\n",
       "      <td>NaN</td>\n",
       "    </tr>\n",
       "    <tr>\n",
       "      <th>81272</th>\n",
       "      <td>tt9914286</td>\n",
       "      <td>Sokagin Çocuklari</td>\n",
       "      <td>Sokagin Çocuklari</td>\n",
       "      <td>2019</td>\n",
       "      <td>2019-03-15</td>\n",
       "      <td>Drama</td>\n",
       "      <td>98</td>\n",
       "      <td>Turkey</td>\n",
       "      <td>Turkish</td>\n",
       "      <td>Ahmet Faik Akinci</td>\n",
       "      <td>...</td>\n",
       "      <td>Ahmet Faik Akinci, Belma Mamati, Metin Keçeci,...</td>\n",
       "      <td>NaN</td>\n",
       "      <td>7.2</td>\n",
       "      <td>190</td>\n",
       "      <td>NaN</td>\n",
       "      <td>NaN</td>\n",
       "      <td>$ 2833</td>\n",
       "      <td>NaN</td>\n",
       "      <td>NaN</td>\n",
       "      <td>NaN</td>\n",
       "    </tr>\n",
       "    <tr>\n",
       "      <th>81272</th>\n",
       "      <td>tt9914286</td>\n",
       "      <td>Sokagin Çocuklari</td>\n",
       "      <td>Sokagin Çocuklari</td>\n",
       "      <td>2019</td>\n",
       "      <td>2019-03-15</td>\n",
       "      <td>Family</td>\n",
       "      <td>98</td>\n",
       "      <td>Turkey</td>\n",
       "      <td>Turkish</td>\n",
       "      <td>Ahmet Faik Akinci</td>\n",
       "      <td>...</td>\n",
       "      <td>Ahmet Faik Akinci, Belma Mamati, Metin Keçeci,...</td>\n",
       "      <td>NaN</td>\n",
       "      <td>7.2</td>\n",
       "      <td>190</td>\n",
       "      <td>NaN</td>\n",
       "      <td>NaN</td>\n",
       "      <td>$ 2833</td>\n",
       "      <td>NaN</td>\n",
       "      <td>NaN</td>\n",
       "      <td>NaN</td>\n",
       "    </tr>\n",
       "  </tbody>\n",
       "</table>\n",
       "<p>166164 rows × 22 columns</p>\n",
       "</div>"
      ],
      "text/plain": [
       "      imdb_title_id                        title               original_title  \\\n",
       "0         tt0000574  The Story of the Kelly Gang  The Story of the Kelly Gang   \n",
       "0         tt0000574  The Story of the Kelly Gang  The Story of the Kelly Gang   \n",
       "0         tt0000574  The Story of the Kelly Gang  The Story of the Kelly Gang   \n",
       "1         tt0001892               Den sorte drøm               Den sorte drøm   \n",
       "2         tt0002101                    Cleopatra                    Cleopatra   \n",
       "...             ...                          ...                          ...   \n",
       "81269     tt9905412                        Ottam                        Ottam   \n",
       "81270     tt9905462                    Pengalila                    Pengalila   \n",
       "81271     tt9911774    Padmavyuhathile Abhimanyu    Padmavyuhathile Abhimanyu   \n",
       "81272     tt9914286            Sokagin Çocuklari            Sokagin Çocuklari   \n",
       "81272     tt9914286            Sokagin Çocuklari            Sokagin Çocuklari   \n",
       "\n",
       "       year date_published      genre  duration           country   language  \\\n",
       "0      1906     1906-12-26  Biography        70         Australia        NaN   \n",
       "0      1906     1906-12-26      Crime        70         Australia        NaN   \n",
       "0      1906     1906-12-26      Drama        70         Australia        NaN   \n",
       "1      1911     1911-08-19      Drama        53  Germany, Denmark        NaN   \n",
       "2      1912     1912-11-13      Drama       100               USA    English   \n",
       "...     ...            ...        ...       ...               ...        ...   \n",
       "81269  2019     2019-03-08      Drama       120             India  Malayalam   \n",
       "81270  2019     2019-03-08      Drama       111             India  Malayalam   \n",
       "81271  2019     2019-03-08      Drama       130             India  Malayalam   \n",
       "81272  2019     2019-03-15      Drama        98            Turkey    Turkish   \n",
       "81272  2019     2019-03-15     Family        98            Turkey    Turkish   \n",
       "\n",
       "                 director  ...  \\\n",
       "0            Charles Tait  ...   \n",
       "0            Charles Tait  ...   \n",
       "0            Charles Tait  ...   \n",
       "1               Urban Gad  ...   \n",
       "2      Charles L. Gaskill  ...   \n",
       "...                   ...  ...   \n",
       "81269                 Zam  ...   \n",
       "81270       T.V. Chandran  ...   \n",
       "81271     Vineesh Aaradya  ...   \n",
       "81272   Ahmet Faik Akinci  ...   \n",
       "81272   Ahmet Faik Akinci  ...   \n",
       "\n",
       "                                                  actors  \\\n",
       "0      Elizabeth Tait, John Tait, Norman Campbell, Be...   \n",
       "0      Elizabeth Tait, John Tait, Norman Campbell, Be...   \n",
       "0      Elizabeth Tait, John Tait, Norman Campbell, Be...   \n",
       "1      Asta Nielsen, Valdemar Psilander, Gunnar Helse...   \n",
       "2      Helen Gardner, Pearl Sindelar, Miss Fielding, ...   \n",
       "...                                                  ...   \n",
       "81269  Nandu Anand, Roshan Ullas, Manikandan R. Achar...   \n",
       "81270  Lal, Akshara Kishor, Iniya, Narain, Renji Pani...   \n",
       "81271  Anoop Chandran, Indrans, Sona Nair, Simon Brit...   \n",
       "81272  Ahmet Faik Akinci, Belma Mamati, Metin Keçeci,...   \n",
       "81272  Ahmet Faik Akinci, Belma Mamati, Metin Keçeci,...   \n",
       "\n",
       "                                             description avg_vote votes  \\\n",
       "0      True story of notorious Australian outlaw Ned ...      6.1   537   \n",
       "0      True story of notorious Australian outlaw Ned ...      6.1   537   \n",
       "0      True story of notorious Australian outlaw Ned ...      6.1   537   \n",
       "1      Two men of high rank are both wooing the beaut...      5.9   171   \n",
       "2      The fabled queen of Egypt's affair with Roman ...      5.2   420   \n",
       "...                                                  ...      ...   ...   \n",
       "81269  Set in Trivandrum, the story of Ottam unfolds ...      7.8   510   \n",
       "81270  An unusual bond between a sixty year old Dalit...      8.4   604   \n",
       "81271                                                NaN      8.4   369   \n",
       "81272                                                NaN      7.2   190   \n",
       "81272                                                NaN      7.2   190   \n",
       "\n",
       "             budget  usa_gross_income worlwide_gross_income metascore  \\\n",
       "0            $ 2250               NaN                   NaN       NaN   \n",
       "0            $ 2250               NaN                   NaN       NaN   \n",
       "0            $ 2250               NaN                   NaN       NaN   \n",
       "1               NaN               NaN                   NaN       NaN   \n",
       "2           $ 45000               NaN                   NaN       NaN   \n",
       "...             ...               ...                   ...       ...   \n",
       "81269   INR 4000000               NaN                $ 4791       NaN   \n",
       "81270  INR 10000000               NaN                   NaN       NaN   \n",
       "81271           NaN               NaN                   NaN       NaN   \n",
       "81272           NaN               NaN                $ 2833       NaN   \n",
       "81272           NaN               NaN                $ 2833       NaN   \n",
       "\n",
       "      reviews_from_users  reviews_from_critics  \n",
       "0                    7.0                   7.0  \n",
       "0                    7.0                   7.0  \n",
       "0                    7.0                   7.0  \n",
       "1                    4.0                   2.0  \n",
       "2                   24.0                   3.0  \n",
       "...                  ...                   ...  \n",
       "81269                NaN                   NaN  \n",
       "81270                NaN                   NaN  \n",
       "81271                NaN                   NaN  \n",
       "81272                NaN                   NaN  \n",
       "81272                NaN                   NaN  \n",
       "\n",
       "[166164 rows x 22 columns]"
      ]
     },
     "execution_count": 3,
     "metadata": {},
     "output_type": "execute_result"
    }
   ],
   "source": [
    "movies = pd.read_csv('./data/IMDb_movies.csv').dropna(subset = ['title', 'original_title', 'country'])\n",
    "movies['genre'] = movies['genre'].apply(lambda x : x.split(', '))\n",
    "movies.explode('genre')"
   ]
  },
  {
   "cell_type": "markdown",
   "metadata": {},
   "source": [
    "A movie can be linked to many countries"
   ]
  },
  {
   "cell_type": "code",
   "execution_count": 4,
   "metadata": {},
   "outputs": [],
   "source": [
    "movies['country'] = movies['country'].apply(lambda x : x.split(', '))\n",
    "movies = movies.explode('country')"
   ]
  },
  {
   "cell_type": "markdown",
   "metadata": {},
   "source": [
    "Some countries no longer exist or have a short name, so we will rename them to compare with the current geographical situation."
   ]
  },
  {
   "cell_type": "code",
   "execution_count": 5,
   "metadata": {},
   "outputs": [],
   "source": [
    "def country_clean(name):\n",
    "    if name == 'UK':\n",
    "        return 'United Kingdom'\n",
    "    if name == 'Soviet Union':\n",
    "        return 'Russia'\n",
    "    if name == 'West Germany':\n",
    "        return 'Germany'\n",
    "#    if name == 'USA':\n",
    "#        return 'United States of America'\n",
    "    return name\n",
    "movies['country'] = movies.country.apply(lambda x : country_clean(x))"
   ]
  },
  {
   "cell_type": "markdown",
   "metadata": {},
   "source": [
    "# Creating dataset for Network"
   ]
  },
  {
   "cell_type": "markdown",
   "metadata": {},
   "source": [
    "From the awards dataset we will create the json file for the bipartite graph"
   ]
  },
  {
   "cell_type": "code",
   "execution_count": 6,
   "metadata": {},
   "outputs": [
    {
     "data": {
      "text/plain": [
       "array(['Academy Awards', 'Sundance Film Festival',\n",
       "       'Locarno International Film Festival',\n",
       "       'Berlin International Film Festival', 'BAFTA Awards',\n",
       "       'Cannes Film Festival', 'Venice Film Festival', 'Satellite Awards'],\n",
       "      dtype=object)"
      ]
     },
     "execution_count": 6,
     "metadata": {},
     "output_type": "execute_result"
    }
   ],
   "source": [
    "network_df = awards[awards.eventName.apply(lambda x : x in prestige_events)][['eventId', 'eventName', 'year', 'name', 'const']]\n",
    "network_df.eventName.unique()"
   ]
  },
  {
   "cell_type": "code",
   "execution_count": 7,
   "metadata": {},
   "outputs": [],
   "source": [
    "network_df = network_df.merge(movies.iloc[:,[0,1,2,3,7]], left_on = 'const', right_on = 'imdb_title_id', suffixes = ('_award','_production'))"
   ]
  },
  {
   "cell_type": "markdown",
   "metadata": {},
   "source": [
    "We will consider, for any year, only the 20 most represented countries."
   ]
  },
  {
   "cell_type": "code",
   "execution_count": 8,
   "metadata": {},
   "outputs": [
    {
     "data": {
      "text/plain": [
       "20"
      ]
     },
     "execution_count": 8,
     "metadata": {},
     "output_type": "execute_result"
    }
   ],
   "source": [
    "network = network_df[['eventId', 'eventName', 'country', 'year_award']]\n",
    "network = network.merge(network.groupby(['year_award', 'country']).size().reset_index().rename(columns={0: \"counter\"}).groupby(['year_award']).apply(lambda x: x.sort_values([\"counter\"], ascending = False).head(20)).droplevel(level = 0), on = ['year_award', 'country']).drop(['counter'], axis = 1).drop_duplicates()\n",
    "network[network.year_award.apply(lambda x : x == 2019)]['country'].nunique()"
   ]
  },
  {
   "cell_type": "markdown",
   "metadata": {},
   "source": [
    "Creating the nodes"
   ]
  },
  {
   "cell_type": "code",
   "execution_count": 9,
   "metadata": {},
   "outputs": [
    {
     "name": "stdout",
     "output_type": "stream",
     "text": [
      "            id                                 name\n",
      "0    ev0000003                       Academy Awards\n",
      "81   ev0000147                 Cannes Film Festival\n",
      "83   ev0000681                 Venice Film Festival\n",
      "173  ev0000296                     Satellite Awards\n",
      "179  ev0000400  Locarno International Film Festival\n",
      "183  ev0000631               Sundance Film Festival\n",
      "254  ev0000123                         BAFTA Awards\n",
      "331  ev0000091   Berlin International Film Festival\n"
     ]
    }
   ],
   "source": [
    "network['cid'] = pd.factorize(network['country'])[0]\n",
    "nodes_1 = network[['eventId', 'eventName']].drop_duplicates().rename(columns = {'eventId':'id', 'eventName':'name'})\n",
    "print(nodes_1.head(20))\n",
    "nodes_1['group'] = 'event'\n",
    "nodes_1['radius'] = \"2\"\n",
    "nodes_2 = network[['cid', 'country']].drop_duplicates().rename(columns = {'cid':'id', 'country':'name'})\n",
    "nodes_2['group'] = 'country'\n",
    "nodes_2['radius'] = \"1\"\n",
    "nodes = pd.concat([nodes_1, nodes_2])"
   ]
  },
  {
   "cell_type": "markdown",
   "metadata": {},
   "source": [
    "Creating the edges"
   ]
  },
  {
   "cell_type": "code",
   "execution_count": 10,
   "metadata": {},
   "outputs": [],
   "source": [
    "links = network[['eventId', 'cid', 'year_award']].rename(columns = {'eventId':'source', 'cid':'target'}).reset_index(level = 0).drop(['index'], axis=1)"
   ]
  },
  {
   "cell_type": "markdown",
   "metadata": {},
   "source": [
    "Concatenating the nodes and the links and registering them in the same json file"
   ]
  },
  {
   "cell_type": "code",
   "execution_count": 11,
   "metadata": {},
   "outputs": [],
   "source": [
    "import json\n",
    "\n",
    "final_dict = {'nodes':nodes.to_dict('records'),'links':links.to_dict('records')}\n",
    "\n",
    "with open('network_data.json', 'w') as fp:\n",
    "    json.dump(final_dict, fp)"
   ]
  },
  {
   "cell_type": "markdown",
   "metadata": {},
   "source": [
    "# Creating dataset for Sequence Sunbursts"
   ]
  },
  {
   "cell_type": "markdown",
   "metadata": {},
   "source": [
    "Similarly for the events considered for the network, we will create the dataset for the sequence sunbursts"
   ]
  },
  {
   "cell_type": "code",
   "execution_count": 12,
   "metadata": {},
   "outputs": [
    {
     "name": "stderr",
     "output_type": "stream",
     "text": [
      "C:\\Users\\ybouq\\Anaconda3\\lib\\site-packages\\pandas\\core\\generic.py:5303: SettingWithCopyWarning: \n",
      "A value is trying to be set on a copy of a slice from a DataFrame.\n",
      "Try using .loc[row_indexer,col_indexer] = value instead\n",
      "\n",
      "See the caveats in the documentation: https://pandas.pydata.org/pandas-docs/stable/user_guide/indexing.html#returning-a-view-versus-a-copy\n",
      "  self[name] = value\n"
     ]
    },
    {
     "data": {
      "text/plain": [
       "eventName             year  awardName               isWinner  isPerson  categoryName          \n",
       "Academy Awards        1929  Honorary Award          Winners   Films     Honorary Award            2\n",
       "                            Oscar                   Nominees  Films     Best Art Direction        2\n",
       "                                                                        Best Cinematography       3\n",
       "                                                                        Best Picture              4\n",
       "                                                                        Best Writing              4\n",
       "                                                                                                 ..\n",
       "Venice Film Festival  2019  Venice Horizons Award   Winners   People    Best Actress              1\n",
       "                                                                        Best Director             1\n",
       "                            Verona Film Club Award  Winners   Films     Verona Film Club Award    1\n",
       "                            Volpi Cup               Winners   People    Best Actor                1\n",
       "                                                                        Best Actress              1\n",
       "Length: 21098, dtype: int64"
      ]
     },
     "execution_count": 12,
     "metadata": {},
     "output_type": "execute_result"
    }
   ],
   "source": [
    "tops = awards[awards.eventName.apply(lambda x : x in prestige_events)]\n",
    "first = tops.awardName.value_counts()\n",
    "def rename_winner(x):\n",
    "    result = \"Nominees\"\n",
    "    if x:\n",
    "        result = \"Winners\"\n",
    "    return result\n",
    "def rename_person(x):\n",
    "    result = \"Films\"\n",
    "    if x:\n",
    "        result = \"People\"\n",
    "    return result\n",
    "\n",
    "tops.isWinner = tops.isWinner.apply(rename_winner)\n",
    "tops.isPerson = tops.isPerson.apply(rename_person)\n",
    "tops.awardName = tops.awardName.apply(lambda x : x.replace(' - ', ' '))\n",
    "tops.categoryName = tops.categoryName.apply(lambda x : x.replace('-', ' ').replace('  ', ''))\n",
    "second = tops.groupby(['eventName','year','awardName', 'isWinner','isPerson', 'categoryName']).size()\n",
    "second"
   ]
  },
  {
   "cell_type": "code",
   "execution_count": 14,
   "metadata": {},
   "outputs": [],
   "source": [
    "def values_cleaning(line):\n",
    "    result = line[:]\n",
    "    if line[2] == line[-1]:\n",
    "        result = line[:-1]\n",
    "    return  tuple(map(lambda y : y if isinstance(y,int) else y.replace(',',' ') , result))"
   ]
  },
  {
   "cell_type": "code",
   "execution_count": 15,
   "metadata": {},
   "outputs": [],
   "source": [
    "final = np.concatenate([np.array(['-'.join(i) for i in np.array([np.array(i[2:]) for i in list(map(values_cleaning,second.keys().values))])]).reshape(-1,1), second.values.reshape(-1,1), [[i[0]] for i in second.keys().values], [[i[1]] for i in second.keys().values]], axis = 1)"
   ]
  },
  {
   "cell_type": "code",
   "execution_count": 16,
   "metadata": {},
   "outputs": [],
   "source": [
    "np.savetxt('sunburst_data.csv', final, delimiter=',', fmt = '%s', encoding = 'utf-8')"
   ]
  },
  {
   "cell_type": "code",
   "execution_count": null,
   "metadata": {},
   "outputs": [],
   "source": []
  }
 ],
 "metadata": {
  "kernelspec": {
   "display_name": "Python 3",
   "language": "python",
   "name": "python3"
  },
  "language_info": {
   "codemirror_mode": {
    "name": "ipython",
    "version": 3
   },
   "file_extension": ".py",
   "mimetype": "text/x-python",
   "name": "python",
   "nbconvert_exporter": "python",
   "pygments_lexer": "ipython3",
   "version": "3.7.6"
  }
 },
 "nbformat": 4,
 "nbformat_minor": 2
}
