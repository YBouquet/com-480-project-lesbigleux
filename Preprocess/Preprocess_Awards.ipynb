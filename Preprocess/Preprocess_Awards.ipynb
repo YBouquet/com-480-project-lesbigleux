{
 "cells": [
  {
   "cell_type": "code",
   "execution_count": 1,
   "metadata": {},
   "outputs": [],
   "source": [
    "import pandas as pd\n",
    "import numpy as np\n",
    "import matplotlib.pyplot as plt"
   ]
  },
  {
   "cell_type": "code",
   "execution_count": 2,
   "metadata": {},
   "outputs": [
    {
     "name": "stderr",
     "output_type": "stream",
     "text": [
      "C:\\Users\\emmal\\Anaconda3\\lib\\site-packages\\IPython\\core\\interactiveshell.py:3020: DtypeWarning: Columns (12) have mixed types. Specify dtype option on import or set low_memory=False.\n",
      "  interactivity=interactivity, compiler=compiler, result=result)\n",
      "C:\\Users\\emmal\\Anaconda3\\lib\\site-packages\\ipykernel_launcher.py:3: FutureWarning: The 'get_values' method is deprecated and will be removed in a future version. Use '.values' or 'np.asarray(..)' instead.\n",
      "  This is separate from the ipykernel package so we can avoid doing imports until\n"
     ]
    }
   ],
   "source": [
    "df = pd.read_csv(\"awards.csv\")\n",
    "attributes_names = np.asarray(df.columns)\n",
    "raw_data = df.get_values()"
   ]
  },
  {
   "cell_type": "code",
   "execution_count": 3,
   "metadata": {
    "scrolled": true
   },
   "outputs": [
    {
     "name": "stdout",
     "output_type": "stream",
     "text": [
      "['Primetime Emmy Awards', 'Daytime Emmy Awards', 'BAFTA Awards', 'News & Documentary Emmy Awards', 'Academy Awards, USA', 'Online Film & Television Association', 'Motion Picture Sound Editors, USA', 'Grammy Awards', 'Adult Video News Awards', 'Young Artist Awards', 'Gemini Awards', 'Leo Awards', 'Writers Guild of America, USA', 'Screen Actors Guild Awards', 'Cannes Film Festival', 'Gold Derby Awards', 'Berlin International Film Festival', 'Academy of Science Fiction, Fantasy & Horror Films, USA', 'CableACE Awards', 'Satellite Awards']\n"
     ]
    }
   ],
   "source": [
    "df_events = df[['eventId','eventName']].groupby('eventName').count()\n",
    "df_events = df_events.sort_values('eventId', ascending=False)\n",
    "famous_events = df_events.head(20)\n",
    "\n",
    "list_famous_events = []\n",
    "for row in famous_events.iterrows():\n",
    "    list_famous_events.append(row[0])\n",
    "\n",
    "print(list_famous_events)"
   ]
  },
  {
   "cell_type": "code",
   "execution_count": 4,
   "metadata": {},
   "outputs": [
    {
     "name": "stdout",
     "output_type": "stream",
     "text": [
      "1886 2020\n",
      "['eventId' 'eventName' 'awardName' 'year' 'occurrence'\n",
      " 'winAnnouncementTime' 'categoryName' 'nomeneeNote' 'name' 'originalName'\n",
      " 'songNames' 'episodeNames' 'characterNames' 'isWinner' 'isPrimary'\n",
      " 'isSecondary' 'isPerson' 'isTitle' 'isCompany' 'const' 'notes']\n"
     ]
    }
   ],
   "source": [
    "print(min(df['year']),max(df['year']))\n",
    "print(attributes_names)"
   ]
  },
  {
   "cell_type": "code",
   "execution_count": 5,
   "metadata": {
    "scrolled": true
   },
   "outputs": [
    {
     "data": {
      "text/html": [
       "<div>\n",
       "<style scoped>\n",
       "    .dataframe tbody tr th:only-of-type {\n",
       "        vertical-align: middle;\n",
       "    }\n",
       "\n",
       "    .dataframe tbody tr th {\n",
       "        vertical-align: top;\n",
       "    }\n",
       "\n",
       "    .dataframe thead th {\n",
       "        text-align: right;\n",
       "    }\n",
       "</style>\n",
       "<table border=\"1\" class=\"dataframe\">\n",
       "  <thead>\n",
       "    <tr style=\"text-align: right;\">\n",
       "      <th></th>\n",
       "      <th>eventId</th>\n",
       "      <th>eventName</th>\n",
       "      <th>categoryName</th>\n",
       "    </tr>\n",
       "  </thead>\n",
       "  <tbody>\n",
       "    <tr>\n",
       "      <td>0</td>\n",
       "      <td>ev0000263</td>\n",
       "      <td>French Syndicate of Cinema Critics</td>\n",
       "      <td>Best Film</td>\n",
       "    </tr>\n",
       "    <tr>\n",
       "      <td>1</td>\n",
       "      <td>ev0000263</td>\n",
       "      <td>French Syndicate of Cinema Critics</td>\n",
       "      <td>Best Film</td>\n",
       "    </tr>\n",
       "    <tr>\n",
       "      <td>2</td>\n",
       "      <td>ev0000263</td>\n",
       "      <td>French Syndicate of Cinema Critics</td>\n",
       "      <td>Best Foreign Film</td>\n",
       "    </tr>\n",
       "    <tr>\n",
       "      <td>3</td>\n",
       "      <td>ev0000263</td>\n",
       "      <td>French Syndicate of Cinema Critics</td>\n",
       "      <td>Best Foreign Film</td>\n",
       "    </tr>\n",
       "    <tr>\n",
       "      <td>4</td>\n",
       "      <td>ev0000263</td>\n",
       "      <td>French Syndicate of Cinema Critics</td>\n",
       "      <td>Best Short</td>\n",
       "    </tr>\n",
       "    <tr>\n",
       "      <td>...</td>\n",
       "      <td>...</td>\n",
       "      <td>...</td>\n",
       "      <td>...</td>\n",
       "    </tr>\n",
       "    <tr>\n",
       "      <td>2156587</td>\n",
       "      <td>ev0011942</td>\n",
       "      <td>Zimbabwe International Film Festival</td>\n",
       "      <td>NaN</td>\n",
       "    </tr>\n",
       "    <tr>\n",
       "      <td>2156588</td>\n",
       "      <td>ev0011942</td>\n",
       "      <td>Zimbabwe International Film Festival</td>\n",
       "      <td>NaN</td>\n",
       "    </tr>\n",
       "    <tr>\n",
       "      <td>2156589</td>\n",
       "      <td>ev0011942</td>\n",
       "      <td>Zimbabwe International Film Festival</td>\n",
       "      <td>NaN</td>\n",
       "    </tr>\n",
       "    <tr>\n",
       "      <td>2157776</td>\n",
       "      <td>ev0000851</td>\n",
       "      <td>WinFemme Film Festival</td>\n",
       "      <td>Best Film or TV Show Directed by a Woman</td>\n",
       "    </tr>\n",
       "    <tr>\n",
       "      <td>2157777</td>\n",
       "      <td>ev0000851</td>\n",
       "      <td>WinFemme Film Festival</td>\n",
       "      <td>Best Film or TV Show Directed by a Woman</td>\n",
       "    </tr>\n",
       "  </tbody>\n",
       "</table>\n",
       "<p>57918 rows × 3 columns</p>\n",
       "</div>"
      ],
      "text/plain": [
       "           eventId                             eventName  \\\n",
       "0        ev0000263    French Syndicate of Cinema Critics   \n",
       "1        ev0000263    French Syndicate of Cinema Critics   \n",
       "2        ev0000263    French Syndicate of Cinema Critics   \n",
       "3        ev0000263    French Syndicate of Cinema Critics   \n",
       "4        ev0000263    French Syndicate of Cinema Critics   \n",
       "...            ...                                   ...   \n",
       "2156587  ev0011942  Zimbabwe International Film Festival   \n",
       "2156588  ev0011942  Zimbabwe International Film Festival   \n",
       "2156589  ev0011942  Zimbabwe International Film Festival   \n",
       "2157776  ev0000851                WinFemme Film Festival   \n",
       "2157777  ev0000851                WinFemme Film Festival   \n",
       "\n",
       "                                     categoryName  \n",
       "0                                       Best Film  \n",
       "1                                       Best Film  \n",
       "2                               Best Foreign Film  \n",
       "3                               Best Foreign Film  \n",
       "4                                      Best Short  \n",
       "...                                           ...  \n",
       "2156587                                       NaN  \n",
       "2156588                                       NaN  \n",
       "2156589                                       NaN  \n",
       "2157776  Best Film or TV Show Directed by a Woman  \n",
       "2157777  Best Film or TV Show Directed by a Woman  \n",
       "\n",
       "[57918 rows x 3 columns]"
      ]
     },
     "execution_count": 5,
     "metadata": {},
     "output_type": "execute_result"
    }
   ],
   "source": [
    "df_event_cat = df[['eventId','eventName', 'categoryName']].groupby('eventName')\n",
    "df_event_cat.head(10)\n"
   ]
  },
  {
   "cell_type": "code",
   "execution_count": 6,
   "metadata": {},
   "outputs": [],
   "source": [
    "df_cat = df['categoryName'].dropna().unique()\n",
    "##df_cat.hist(bins =df_cat.nunique())"
   ]
  },
  {
   "cell_type": "code",
   "execution_count": 7,
   "metadata": {
    "scrolled": true
   },
   "outputs": [
    {
     "name": "stdout",
     "output_type": "stream",
     "text": [
      "51907\n"
     ]
    },
    {
     "data": {
      "text/plain": [
       "array(['Best Film', 'Best Foreign Film', 'Best Short',\n",
       "       'Best Feature Film', 'Best Short Film', 'Onda curta',\n",
       "       'Prémio RTP2', 'International Competition', \"Children's Section\",\n",
       "       'Award of Exellence'], dtype=object)"
      ]
     },
     "execution_count": 7,
     "metadata": {},
     "output_type": "execute_result"
    }
   ],
   "source": [
    "print(len(df_cat))\n",
    "df_cat[:10]"
   ]
  },
  {
   "cell_type": "code",
   "execution_count": 8,
   "metadata": {},
   "outputs": [
    {
     "data": {
      "text/html": [
       "<div>\n",
       "<style scoped>\n",
       "    .dataframe tbody tr th:only-of-type {\n",
       "        vertical-align: middle;\n",
       "    }\n",
       "\n",
       "    .dataframe tbody tr th {\n",
       "        vertical-align: top;\n",
       "    }\n",
       "\n",
       "    .dataframe thead th {\n",
       "        text-align: right;\n",
       "    }\n",
       "</style>\n",
       "<table border=\"1\" class=\"dataframe\">\n",
       "  <thead>\n",
       "    <tr style=\"text-align: right;\">\n",
       "      <th></th>\n",
       "      <th>eventId</th>\n",
       "      <th>eventName</th>\n",
       "      <th>awardName</th>\n",
       "      <th>year</th>\n",
       "      <th>occurrence</th>\n",
       "      <th>winAnnouncementTime</th>\n",
       "      <th>categoryName</th>\n",
       "      <th>nomeneeNote</th>\n",
       "      <th>name</th>\n",
       "      <th>originalName</th>\n",
       "      <th>...</th>\n",
       "      <th>episodeNames</th>\n",
       "      <th>characterNames</th>\n",
       "      <th>isWinner</th>\n",
       "      <th>isPrimary</th>\n",
       "      <th>isSecondary</th>\n",
       "      <th>isPerson</th>\n",
       "      <th>isTitle</th>\n",
       "      <th>isCompany</th>\n",
       "      <th>const</th>\n",
       "      <th>notes</th>\n",
       "    </tr>\n",
       "  </thead>\n",
       "  <tbody>\n",
       "    <tr>\n",
       "      <td>0</td>\n",
       "      <td>ev0000263</td>\n",
       "      <td>French Syndicate of Cinema Critics</td>\n",
       "      <td>Critics Award</td>\n",
       "      <td>1992</td>\n",
       "      <td>1</td>\n",
       "      <td>NaN</td>\n",
       "      <td>Best Film</td>\n",
       "      <td>NaN</td>\n",
       "      <td>La belle noiseuse</td>\n",
       "      <td>NaN</td>\n",
       "      <td>...</td>\n",
       "      <td>NaN</td>\n",
       "      <td>NaN</td>\n",
       "      <td>True</td>\n",
       "      <td>True</td>\n",
       "      <td>False</td>\n",
       "      <td>False</td>\n",
       "      <td>True</td>\n",
       "      <td>False</td>\n",
       "      <td>tt0101428</td>\n",
       "      <td>NaN</td>\n",
       "    </tr>\n",
       "    <tr>\n",
       "      <td>1</td>\n",
       "      <td>ev0000263</td>\n",
       "      <td>French Syndicate of Cinema Critics</td>\n",
       "      <td>Critics Award</td>\n",
       "      <td>1992</td>\n",
       "      <td>1</td>\n",
       "      <td>NaN</td>\n",
       "      <td>Best Film</td>\n",
       "      <td>NaN</td>\n",
       "      <td>Jacques Rivette</td>\n",
       "      <td>NaN</td>\n",
       "      <td>...</td>\n",
       "      <td>NaN</td>\n",
       "      <td>NaN</td>\n",
       "      <td>True</td>\n",
       "      <td>False</td>\n",
       "      <td>True</td>\n",
       "      <td>True</td>\n",
       "      <td>False</td>\n",
       "      <td>False</td>\n",
       "      <td>nm0729626</td>\n",
       "      <td>NaN</td>\n",
       "    </tr>\n",
       "    <tr>\n",
       "      <td>2</td>\n",
       "      <td>ev0000263</td>\n",
       "      <td>French Syndicate of Cinema Critics</td>\n",
       "      <td>Critics Award</td>\n",
       "      <td>1992</td>\n",
       "      <td>1</td>\n",
       "      <td>NaN</td>\n",
       "      <td>Best Foreign Film</td>\n",
       "      <td>NaN</td>\n",
       "      <td>The Double Life of Véronique</td>\n",
       "      <td>La double vie de Véronique</td>\n",
       "      <td>...</td>\n",
       "      <td>NaN</td>\n",
       "      <td>NaN</td>\n",
       "      <td>True</td>\n",
       "      <td>True</td>\n",
       "      <td>False</td>\n",
       "      <td>False</td>\n",
       "      <td>True</td>\n",
       "      <td>False</td>\n",
       "      <td>tt0101765</td>\n",
       "      <td>Poland.</td>\n",
       "    </tr>\n",
       "    <tr>\n",
       "      <td>3</td>\n",
       "      <td>ev0000263</td>\n",
       "      <td>French Syndicate of Cinema Critics</td>\n",
       "      <td>Critics Award</td>\n",
       "      <td>1992</td>\n",
       "      <td>1</td>\n",
       "      <td>NaN</td>\n",
       "      <td>Best Foreign Film</td>\n",
       "      <td>NaN</td>\n",
       "      <td>Krzysztof Kieslowski</td>\n",
       "      <td>NaN</td>\n",
       "      <td>...</td>\n",
       "      <td>NaN</td>\n",
       "      <td>NaN</td>\n",
       "      <td>True</td>\n",
       "      <td>False</td>\n",
       "      <td>True</td>\n",
       "      <td>True</td>\n",
       "      <td>False</td>\n",
       "      <td>False</td>\n",
       "      <td>nm0001425</td>\n",
       "      <td>Poland.</td>\n",
       "    </tr>\n",
       "    <tr>\n",
       "      <td>4</td>\n",
       "      <td>ev0000263</td>\n",
       "      <td>French Syndicate of Cinema Critics</td>\n",
       "      <td>Critics Award</td>\n",
       "      <td>1992</td>\n",
       "      <td>1</td>\n",
       "      <td>NaN</td>\n",
       "      <td>Best Short</td>\n",
       "      <td>NaN</td>\n",
       "      <td>Le petit chat est mort</td>\n",
       "      <td>NaN</td>\n",
       "      <td>...</td>\n",
       "      <td>NaN</td>\n",
       "      <td>NaN</td>\n",
       "      <td>True</td>\n",
       "      <td>True</td>\n",
       "      <td>False</td>\n",
       "      <td>False</td>\n",
       "      <td>True</td>\n",
       "      <td>False</td>\n",
       "      <td>tt0195135</td>\n",
       "      <td>NaN</td>\n",
       "    </tr>\n",
       "  </tbody>\n",
       "</table>\n",
       "<p>5 rows × 21 columns</p>\n",
       "</div>"
      ],
      "text/plain": [
       "     eventId                           eventName      awardName  year  \\\n",
       "0  ev0000263  French Syndicate of Cinema Critics  Critics Award  1992   \n",
       "1  ev0000263  French Syndicate of Cinema Critics  Critics Award  1992   \n",
       "2  ev0000263  French Syndicate of Cinema Critics  Critics Award  1992   \n",
       "3  ev0000263  French Syndicate of Cinema Critics  Critics Award  1992   \n",
       "4  ev0000263  French Syndicate of Cinema Critics  Critics Award  1992   \n",
       "\n",
       "   occurrence  winAnnouncementTime       categoryName nomeneeNote  \\\n",
       "0           1                  NaN          Best Film         NaN   \n",
       "1           1                  NaN          Best Film         NaN   \n",
       "2           1                  NaN  Best Foreign Film         NaN   \n",
       "3           1                  NaN  Best Foreign Film         NaN   \n",
       "4           1                  NaN         Best Short         NaN   \n",
       "\n",
       "                           name                originalName  ... episodeNames  \\\n",
       "0             La belle noiseuse                         NaN  ...          NaN   \n",
       "1               Jacques Rivette                         NaN  ...          NaN   \n",
       "2  The Double Life of Véronique  La double vie de Véronique  ...          NaN   \n",
       "3          Krzysztof Kieslowski                         NaN  ...          NaN   \n",
       "4        Le petit chat est mort                         NaN  ...          NaN   \n",
       "\n",
       "  characterNames isWinner isPrimary isSecondary isPerson  isTitle  isCompany  \\\n",
       "0            NaN     True      True       False    False     True      False   \n",
       "1            NaN     True     False        True     True    False      False   \n",
       "2            NaN     True      True       False    False     True      False   \n",
       "3            NaN     True     False        True     True    False      False   \n",
       "4            NaN     True      True       False    False     True      False   \n",
       "\n",
       "       const    notes  \n",
       "0  tt0101428      NaN  \n",
       "1  nm0729626      NaN  \n",
       "2  tt0101765  Poland.  \n",
       "3  nm0001425  Poland.  \n",
       "4  tt0195135      NaN  \n",
       "\n",
       "[5 rows x 21 columns]"
      ]
     },
     "execution_count": 8,
     "metadata": {},
     "output_type": "execute_result"
    }
   ],
   "source": [
    "df.head()"
   ]
  },
  {
   "cell_type": "code",
   "execution_count": 9,
   "metadata": {},
   "outputs": [],
   "source": [
    "#construction of the cleaning one\n",
    "df_copy = df.copy()\n"
   ]
  },
  {
   "cell_type": "code",
   "execution_count": 10,
   "metadata": {
    "scrolled": true
   },
   "outputs": [],
   "source": [
    "unused_columns = ['occurrence',\n",
    " 'winAnnouncementTime', 'nomeneeNote', 'originalName',\n",
    " 'songNames', 'episodeNames', 'characterNames' ,'isCompany' ,'const', 'notes']\n",
    "df_copy = df_copy[df_copy['isCompany'] == False]\n",
    "df_copy = df_copy.drop(columns=unused_columns)"
   ]
  },
  {
   "cell_type": "code",
   "execution_count": 11,
   "metadata": {},
   "outputs": [],
   "source": [
    "#keep only famous ceremonies 20 firsts (431315 over 2157719)\n",
    "df_copy.reset_index()\n",
    "df_copy = df_copy[df_copy['eventName'].isin(list_famous_events)]\n"
   ]
  },
  {
   "cell_type": "code",
   "execution_count": 12,
   "metadata": {},
   "outputs": [
    {
     "name": "stdout",
     "output_type": "stream",
     "text": [
      "{'Primetime Emmy Awards': 'Microsoft Theatre, Los Angeles', 'Daytime Emmy Awards': 'Microsoft Theatre, Los Angeles', 'BAFTA Awards': 'Odeon Cinema, Leicester Square, Londres', 'News & Documentary Emmy Awards': 'Microsoft Theatre, Los Angeles', 'Academy Awards, USA': 'Théâtre Dolby, Los Angeles, Californie, États-Unis', 'Online Film & Television Association': 'Boston, Massachusetts', 'Motion Picture Sound Editors, USA': 'Beverly Wilshire Hotel Grand Ballroom, Beverly Hills, California', 'Grammy Awards': 'Staples Center, Figueroa St, Los Angeles, CA 90015, États-Unis', 'Adult Video News Awards': 'Las Vegas, Nevada', 'Young Artist Awards': 'Alex Theater, Glendale, Californie', 'Gemini Awards': 'Toronto, Canada', 'Leo Awards': 'British Columbia, Canada', 'Writers Guild of America, USA': 'Los Angeles', 'Screen Actors Guild Awards': 'Shrine Auditorium,  665 W Jefferson Blvd, Los Angeles, CA 90007, États-Unis', 'Cannes Film Festival': 'Palais des festivales, Cannes, France', 'Gold Derby Awards': 'New York, Etats-Unis', 'Berlin International Film Festival': 'Berlin, Germany', 'Academy of Science Fiction, Fantasy & Horror Films, USA': 'Los Angeles, California, United States', 'CableACE Awards': 'Los Angeles, California, United States', 'Satellite Awards': 'Los Angeles, California, United States'}\n"
     ]
    }
   ],
   "source": [
    "#Creation of the dict ceremony-place\n",
    "dictOfCeremonies = { i : 'None' for i in list_famous_events}\n",
    "dictOfCeremonies[list_famous_events[0]] = \"Microsoft Theatre, Los Angeles\"\n",
    "dictOfCeremonies[list_famous_events[1]] = \"Microsoft Theatre, Los Angeles\"\n",
    "dictOfCeremonies[list_famous_events[2]] = \"Odeon Cinema, Leicester Square, Londres\"\n",
    "dictOfCeremonies[list_famous_events[3]] = \"Microsoft Theatre, Los Angeles\"\n",
    "dictOfCeremonies[list_famous_events[4]] = \"Théâtre Dolby, Los Angeles, Californie, États-Unis\"\n",
    "dictOfCeremonies[list_famous_events[5]] = \"Boston, Massachusetts\"\n",
    "dictOfCeremonies[list_famous_events[6]] = \"Beverly Wilshire Hotel Grand Ballroom, Beverly Hills, California\"\n",
    "dictOfCeremonies[list_famous_events[7]] = \"Staples Center, Figueroa St, Los Angeles, CA 90015, États-Unis\"\n",
    "dictOfCeremonies[list_famous_events[8]] = \"Las Vegas, Nevada\"\n",
    "dictOfCeremonies[list_famous_events[9]] = \"Alex Theater, Glendale, Californie\"\n",
    "dictOfCeremonies[list_famous_events[10]] = \"Toronto, Canada\"\n",
    "dictOfCeremonies[list_famous_events[11]] = \"British Columbia, Canada\"\n",
    "dictOfCeremonies[list_famous_events[12]] = \"Los Angeles\"\n",
    "dictOfCeremonies[list_famous_events[13]] = \"Shrine Auditorium,  665 W Jefferson Blvd, Los Angeles, CA 90007, États-Unis\"\n",
    "dictOfCeremonies[list_famous_events[14]] = \"Palais des festivales, Cannes, France\"\n",
    "dictOfCeremonies[list_famous_events[15]] = \"New York, Etats-Unis\"\n",
    "dictOfCeremonies[list_famous_events[16]] = \"Berlin, Germany\"\n",
    "dictOfCeremonies[list_famous_events[17]] = \"Los Angeles, California, United States\"\n",
    "dictOfCeremonies[list_famous_events[18]] = \"Los Angeles, California, United States\"\n",
    "dictOfCeremonies[list_famous_events[19]] = \"Los Angeles, California, United States\"\n",
    "print(dictOfCeremonies)"
   ]
  },
  {
   "cell_type": "code",
   "execution_count": 13,
   "metadata": {
    "scrolled": true
   },
   "outputs": [
    {
     "name": "stdout",
     "output_type": "stream",
     "text": [
      "[83374, 49368, 29817, 26329, 25917, 25245, 18953, 18891, 15886, 14770, 14049, 13938, 13854, 13258, 11941, 11494, 11347, 11252, 11041, 10591]\n"
     ]
    }
   ],
   "source": [
    "#show the frequency in each event (all at list 10 600 samples in each event so fine)\n",
    "#for each event associated a place : place\n",
    "freq = []\n",
    "df_copy[\"eventPlace\"] = 'None'\n",
    "for event in list_famous_events: \n",
    "    nb = df_copy['eventName'] == event\n",
    "    df_copy.loc[nb,'eventPlace'] = dictOfCeremonies[event]\n",
    "    freq.append(nb.sum())\n",
    "print(freq)\n",
    "\n"
   ]
  },
  {
   "cell_type": "code",
   "execution_count": 14,
   "metadata": {},
   "outputs": [],
   "source": [
    "#if we keep only film (much easier to retrieve the home country) we have 134400 films left\n",
    "\n",
    "df_copy_filmOnly = df_copy[df_copy['isTitle']==True]\n",
    "\n",
    "#show freq by eventName\n",
    "freqTitle = []\n",
    "for event in list_famous_events: \n",
    "    nb = df_copy_filmOnly['eventName'] == event\n",
    "    freqTitle.append(nb.sum())"
   ]
  },
  {
   "cell_type": "code",
   "execution_count": 15,
   "metadata": {
    "scrolled": true
   },
   "outputs": [
    {
     "data": {
      "text/plain": [
       "([<matplotlib.axis.XTick at 0x2d10831c908>,\n",
       "  <matplotlib.axis.XTick at 0x2d12f8789e8>,\n",
       "  <matplotlib.axis.XTick at 0x2d12f8785f8>,\n",
       "  <matplotlib.axis.XTick at 0x2d12f8ecdd8>,\n",
       "  <matplotlib.axis.XTick at 0x2d12f8fb2e8>,\n",
       "  <matplotlib.axis.XTick at 0x2d12f8fb7f0>,\n",
       "  <matplotlib.axis.XTick at 0x2d12f8fbd68>,\n",
       "  <matplotlib.axis.XTick at 0x2d12f903320>,\n",
       "  <matplotlib.axis.XTick at 0x2d12f8fb8d0>,\n",
       "  <matplotlib.axis.XTick at 0x2d12f903780>,\n",
       "  <matplotlib.axis.XTick at 0x2d12f903cf8>,\n",
       "  <matplotlib.axis.XTick at 0x2d12f90a2b0>,\n",
       "  <matplotlib.axis.XTick at 0x2d12f90a828>,\n",
       "  <matplotlib.axis.XTick at 0x2d12f90ada0>,\n",
       "  <matplotlib.axis.XTick at 0x2d12f911358>,\n",
       "  <matplotlib.axis.XTick at 0x2d12f9118d0>,\n",
       "  <matplotlib.axis.XTick at 0x2d12f911e48>,\n",
       "  <matplotlib.axis.XTick at 0x2d12f9112b0>,\n",
       "  <matplotlib.axis.XTick at 0x2d12f90a6a0>,\n",
       "  <matplotlib.axis.XTick at 0x2d12f9192e8>],\n",
       " <a list of 20 Text xticklabel objects>)"
      ]
     },
     "execution_count": 15,
     "metadata": {},
     "output_type": "execute_result"
    },
    {
     "data": {
      "image/png": "[encoded data removed]",
      "text/plain": [
       "<Figure size 432x288 with 1 Axes>"
      ]
     },
     "metadata": {
      "needs_background": "light"
     },
     "output_type": "display_data"
    }
   ],
   "source": [
    "plt.bar(x = range(0,20), height=freqTitle)\n",
    "plt.xticks(range(0,20), list_famous_events, rotation=90)"
   ]
  },
  {
   "cell_type": "code",
   "execution_count": 16,
   "metadata": {},
   "outputs": [
    {
     "data": {
      "text/plain": [
       "([<matplotlib.axis.XTick at 0x2d12f974eb8>,\n",
       "  <matplotlib.axis.XTick at 0x2d12f9744e0>,\n",
       "  <matplotlib.axis.XTick at 0x2d12f974160>,\n",
       "  <matplotlib.axis.XTick at 0x2d12fd87d30>,\n",
       "  <matplotlib.axis.XTick at 0x2d12fd93278>,\n",
       "  <matplotlib.axis.XTick at 0x2d12fd937f0>,\n",
       "  <matplotlib.axis.XTick at 0x2d12fd93d68>,\n",
       "  <matplotlib.axis.XTick at 0x2d12fd93668>,\n",
       "  <matplotlib.axis.XTick at 0x2d12fd99208>,\n",
       "  <matplotlib.axis.XTick at 0x2d12fd998d0>,\n",
       "  <matplotlib.axis.XTick at 0x2d12fd99e48>,\n",
       "  <matplotlib.axis.XTick at 0x2d12fd9f400>,\n",
       "  <matplotlib.axis.XTick at 0x2d12fd9f978>,\n",
       "  <matplotlib.axis.XTick at 0x2d12fd9fef0>,\n",
       "  <matplotlib.axis.XTick at 0x2d12fda64a8>,\n",
       "  <matplotlib.axis.XTick at 0x2d12fda6a20>,\n",
       "  <matplotlib.axis.XTick at 0x2d12fda6e80>,\n",
       "  <matplotlib.axis.XTick at 0x2d12fd9fa58>,\n",
       "  <matplotlib.axis.XTick at 0x2d12fd990f0>,\n",
       "  <matplotlib.axis.XTick at 0x2d12fdae5c0>],\n",
       " <a list of 20 Text xticklabel objects>)"
      ]
     },
     "execution_count": 16,
     "metadata": {},
     "output_type": "execute_result"
    },
    {
     "data": {
      "image/png": "[encoded data removed]",
      "text/plain": [
       "<Figure size 432x288 with 1 Axes>"
      ]
     },
     "metadata": {
      "needs_background": "light"
     },
     "output_type": "display_data"
    }
   ],
   "source": [
    "plt.bar(x = range(0,20), height=freq)\n",
    "plt.xticks(range(0,20), list_famous_events, rotation=90)"
   ]
  },
  {
   "cell_type": "code",
   "execution_count": 17,
   "metadata": {
    "scrolled": true
   },
   "outputs": [
    {
     "data": {
      "text/html": [
       "<div>\n",
       "<style scoped>\n",
       "    .dataframe tbody tr th:only-of-type {\n",
       "        vertical-align: middle;\n",
       "    }\n",
       "\n",
       "    .dataframe tbody tr th {\n",
       "        vertical-align: top;\n",
       "    }\n",
       "\n",
       "    .dataframe thead th {\n",
       "        text-align: right;\n",
       "    }\n",
       "</style>\n",
       "<table border=\"1\" class=\"dataframe\">\n",
       "  <thead>\n",
       "    <tr style=\"text-align: right;\">\n",
       "      <th></th>\n",
       "      <th>eventId</th>\n",
       "      <th>eventName</th>\n",
       "      <th>awardName</th>\n",
       "      <th>categoryName</th>\n",
       "      <th>name</th>\n",
       "      <th>isWinner</th>\n",
       "      <th>isPrimary</th>\n",
       "      <th>isSecondary</th>\n",
       "      <th>isPerson</th>\n",
       "      <th>isTitle</th>\n",
       "      <th>eventPlace</th>\n",
       "    </tr>\n",
       "    <tr>\n",
       "      <th>year</th>\n",
       "      <th></th>\n",
       "      <th></th>\n",
       "      <th></th>\n",
       "      <th></th>\n",
       "      <th></th>\n",
       "      <th></th>\n",
       "      <th></th>\n",
       "      <th></th>\n",
       "      <th></th>\n",
       "      <th></th>\n",
       "      <th></th>\n",
       "    </tr>\n",
       "  </thead>\n",
       "  <tbody>\n",
       "    <tr>\n",
       "      <td>1929</td>\n",
       "      <td>37</td>\n",
       "      <td>37</td>\n",
       "      <td>37</td>\n",
       "      <td>35</td>\n",
       "      <td>37</td>\n",
       "      <td>37</td>\n",
       "      <td>37</td>\n",
       "      <td>37</td>\n",
       "      <td>37</td>\n",
       "      <td>37</td>\n",
       "      <td>37</td>\n",
       "    </tr>\n",
       "    <tr>\n",
       "      <td>1930</td>\n",
       "      <td>92</td>\n",
       "      <td>92</td>\n",
       "      <td>92</td>\n",
       "      <td>92</td>\n",
       "      <td>92</td>\n",
       "      <td>92</td>\n",
       "      <td>92</td>\n",
       "      <td>92</td>\n",
       "      <td>92</td>\n",
       "      <td>92</td>\n",
       "      <td>92</td>\n",
       "    </tr>\n",
       "    <tr>\n",
       "      <td>1931</td>\n",
       "      <td>40</td>\n",
       "      <td>40</td>\n",
       "      <td>40</td>\n",
       "      <td>40</td>\n",
       "      <td>40</td>\n",
       "      <td>40</td>\n",
       "      <td>40</td>\n",
       "      <td>40</td>\n",
       "      <td>40</td>\n",
       "      <td>40</td>\n",
       "      <td>40</td>\n",
       "    </tr>\n",
       "    <tr>\n",
       "      <td>1932</td>\n",
       "      <td>40</td>\n",
       "      <td>40</td>\n",
       "      <td>40</td>\n",
       "      <td>40</td>\n",
       "      <td>40</td>\n",
       "      <td>40</td>\n",
       "      <td>40</td>\n",
       "      <td>40</td>\n",
       "      <td>40</td>\n",
       "      <td>40</td>\n",
       "      <td>40</td>\n",
       "    </tr>\n",
       "    <tr>\n",
       "      <td>1934</td>\n",
       "      <td>44</td>\n",
       "      <td>44</td>\n",
       "      <td>44</td>\n",
       "      <td>44</td>\n",
       "      <td>44</td>\n",
       "      <td>44</td>\n",
       "      <td>44</td>\n",
       "      <td>44</td>\n",
       "      <td>44</td>\n",
       "      <td>44</td>\n",
       "      <td>44</td>\n",
       "    </tr>\n",
       "  </tbody>\n",
       "</table>\n",
       "</div>"
      ],
      "text/plain": [
       "      eventId  eventName  awardName  categoryName  name  isWinner  isPrimary  \\\n",
       "year                                                                           \n",
       "1929       37         37         37            35    37        37         37   \n",
       "1930       92         92         92            92    92        92         92   \n",
       "1931       40         40         40            40    40        40         40   \n",
       "1932       40         40         40            40    40        40         40   \n",
       "1934       44         44         44            44    44        44         44   \n",
       "\n",
       "      isSecondary  isPerson  isTitle  eventPlace  \n",
       "year                                              \n",
       "1929           37        37       37          37  \n",
       "1930           92        92       92          92  \n",
       "1931           40        40       40          40  \n",
       "1932           40        40       40          40  \n",
       "1934           44        44       44          44  "
      ]
     },
     "execution_count": 17,
     "metadata": {},
     "output_type": "execute_result"
    }
   ],
   "source": [
    "df_years_filmOnly = df_copy_filmOnly.groupby(['year']).count()\n",
    "df_years_filmOnly.head()"
   ]
  },
  {
   "cell_type": "code",
   "execution_count": 18,
   "metadata": {},
   "outputs": [
    {
     "data": {
      "text/html": [
       "<div>\n",
       "<style scoped>\n",
       "    .dataframe tbody tr th:only-of-type {\n",
       "        vertical-align: middle;\n",
       "    }\n",
       "\n",
       "    .dataframe tbody tr th {\n",
       "        vertical-align: top;\n",
       "    }\n",
       "\n",
       "    .dataframe thead th {\n",
       "        text-align: right;\n",
       "    }\n",
       "</style>\n",
       "<table border=\"1\" class=\"dataframe\">\n",
       "  <thead>\n",
       "    <tr style=\"text-align: right;\">\n",
       "      <th></th>\n",
       "      <th>eventId</th>\n",
       "      <th>eventName</th>\n",
       "      <th>awardName</th>\n",
       "      <th>categoryName</th>\n",
       "      <th>name</th>\n",
       "      <th>isWinner</th>\n",
       "      <th>isPrimary</th>\n",
       "      <th>isSecondary</th>\n",
       "      <th>isPerson</th>\n",
       "      <th>isTitle</th>\n",
       "      <th>eventPlace</th>\n",
       "    </tr>\n",
       "    <tr>\n",
       "      <th>year</th>\n",
       "      <th></th>\n",
       "      <th></th>\n",
       "      <th></th>\n",
       "      <th></th>\n",
       "      <th></th>\n",
       "      <th></th>\n",
       "      <th></th>\n",
       "      <th></th>\n",
       "      <th></th>\n",
       "      <th></th>\n",
       "      <th></th>\n",
       "    </tr>\n",
       "  </thead>\n",
       "  <tbody>\n",
       "    <tr>\n",
       "      <td>1929</td>\n",
       "      <td>69</td>\n",
       "      <td>69</td>\n",
       "      <td>69</td>\n",
       "      <td>66</td>\n",
       "      <td>69</td>\n",
       "      <td>69</td>\n",
       "      <td>69</td>\n",
       "      <td>69</td>\n",
       "      <td>69</td>\n",
       "      <td>69</td>\n",
       "      <td>69</td>\n",
       "    </tr>\n",
       "    <tr>\n",
       "      <td>1930</td>\n",
       "      <td>178</td>\n",
       "      <td>178</td>\n",
       "      <td>178</td>\n",
       "      <td>178</td>\n",
       "      <td>178</td>\n",
       "      <td>178</td>\n",
       "      <td>178</td>\n",
       "      <td>178</td>\n",
       "      <td>178</td>\n",
       "      <td>178</td>\n",
       "      <td>178</td>\n",
       "    </tr>\n",
       "    <tr>\n",
       "      <td>1931</td>\n",
       "      <td>89</td>\n",
       "      <td>89</td>\n",
       "      <td>89</td>\n",
       "      <td>83</td>\n",
       "      <td>83</td>\n",
       "      <td>89</td>\n",
       "      <td>83</td>\n",
       "      <td>83</td>\n",
       "      <td>89</td>\n",
       "      <td>89</td>\n",
       "      <td>89</td>\n",
       "    </tr>\n",
       "    <tr>\n",
       "      <td>1932</td>\n",
       "      <td>75</td>\n",
       "      <td>75</td>\n",
       "      <td>75</td>\n",
       "      <td>71</td>\n",
       "      <td>72</td>\n",
       "      <td>75</td>\n",
       "      <td>72</td>\n",
       "      <td>72</td>\n",
       "      <td>75</td>\n",
       "      <td>75</td>\n",
       "      <td>75</td>\n",
       "    </tr>\n",
       "    <tr>\n",
       "      <td>1933</td>\n",
       "      <td>1</td>\n",
       "      <td>1</td>\n",
       "      <td>0</td>\n",
       "      <td>0</td>\n",
       "      <td>0</td>\n",
       "      <td>0</td>\n",
       "      <td>0</td>\n",
       "      <td>0</td>\n",
       "      <td>1</td>\n",
       "      <td>1</td>\n",
       "      <td>1</td>\n",
       "    </tr>\n",
       "  </tbody>\n",
       "</table>\n",
       "</div>"
      ],
      "text/plain": [
       "      eventId  eventName  awardName  categoryName  name  isWinner  isPrimary  \\\n",
       "year                                                                           \n",
       "1929       69         69         69            66    69        69         69   \n",
       "1930      178        178        178           178   178       178        178   \n",
       "1931       89         89         89            83    83        89         83   \n",
       "1932       75         75         75            71    72        75         72   \n",
       "1933        1          1          0             0     0         0          0   \n",
       "\n",
       "      isSecondary  isPerson  isTitle  eventPlace  \n",
       "year                                              \n",
       "1929           69        69       69          69  \n",
       "1930          178       178      178         178  \n",
       "1931           83        89       89          89  \n",
       "1932           72        75       75          75  \n",
       "1933            0         1        1           1  "
      ]
     },
     "execution_count": 18,
     "metadata": {},
     "output_type": "execute_result"
    }
   ],
   "source": [
    "df_years = df_copy.groupby(['year']).count()\n",
    "df_years.head()"
   ]
  }
 ],
 "metadata": {
  "kernelspec": {
   "display_name": "Python 3",
   "language": "python",
   "name": "python3"
  },
  "language_info": {
   "codemirror_mode": {
    "name": "ipython",
    "version": 3
   },
   "file_extension": ".py",
   "mimetype": "text/x-python",
   "name": "python",
   "nbconvert_exporter": "python",
   "pygments_lexer": "ipython3",
   "version": "3.7.1"
  }
 },
 "nbformat": 4,
 "nbformat_minor": 2
}
